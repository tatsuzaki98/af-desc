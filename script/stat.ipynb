{
 "cells": [
  {
   "cell_type": "code",
   "execution_count": 6,
   "metadata": {},
   "outputs": [],
   "source": [
    "import re\n",
    "import os\n",
    "from mutagen.mp3 import MP3, HeaderNotFoundError\n",
    "from matplotlib import pyplot\n",
    "from collections import Counter\n",
    "import numpy\n"
   ]
  },
  {
   "cell_type": "code",
   "execution_count": 7,
   "metadata": {},
   "outputs": [],
   "source": [
    "def find_all_files(directory):\n",
    "    for root, _, files in os.walk(directory):\n",
    "        yield root\n",
    "        for file in files:\n",
    "            yield os.path.join(root, file)\n",
    "\n",
    "\n",
    "def get_bitrate(path):\n",
    "    try:\n",
    "        info = MP3(path).info\n",
    "        return (\n",
    "            info.bitrate,\n",
    "            info.sample_rate\n",
    "        )\n",
    "    except HeaderNotFoundError:\n",
    "        print(path, end=\",\")\n",
    "        return None\n",
    "\n",
    "\n",
    "def display(dir_path):\n",
    "    files = find_all_files(dir_path)\n",
    "\n",
    "    bitrate_stats = [\n",
    "        get_bitrate(filepath)\n",
    "        for filepath in files\n",
    "        if re.findall(r\"\\.mp3$\", filepath, re.IGNORECASE)\n",
    "    ]\n",
    "\n",
    "    bitrate_list = numpy.array([item[0] for item in bitrate_stats if item is not None]) / 1e3\n",
    "    smrate_list = numpy.array([item[1] for item in bitrate_stats if item is not None]) / 1e3\n",
    "    bit_mean = round(numpy.mean(bitrate_list), 1)\n",
    "    bit_std = round(numpy.std(bitrate_list), 1)\n",
    "    sm_mean = round(numpy.mean(smrate_list), 1)\n",
    "    sm_std = round(numpy.std(smrate_list), 1)\n",
    "    print(f\"{dir_path.split('/')[-1]},{bit_mean},{bit_std},{sm_mean},{sm_std}\")\n"
   ]
  },
  {
   "cell_type": "code",
   "execution_count": 8,
   "metadata": {},
   "outputs": [],
   "source": [
    "files = [filepath for filepath in find_all_files('../raw') if re.findall(r\"\\.mp3$\", filepath, re.IGNORECASE)]"
   ]
  },
  {
   "cell_type": "code",
   "execution_count": 19,
   "metadata": {},
   "outputs": [
    {
     "name": "stdout",
     "output_type": "stream",
     "text": [
      "../raw/A/A音源（01～50）/00-A003\\ 01\\ 残月.mp3,192.0,44.1\n",
      "../raw/A/A音源（01～50）/00-A022\\ 05\\ 残月.mp3,192.0,44.1\n",
      "../raw/A/A音源（01～50）/00-A025\\ 02\\ 残月\\ 解説.mp3,192.0,44.1\n",
      "../raw/A/A音源（01～50）/00-A025\\ 03\\ 残月.mp3,192.0,44.1\n",
      "../raw/A/A音源（01～50）/00-A025\\ 04\\ 残月\\ 解説.mp3,192.0,44.1\n",
      "../raw/A/A音源（01～50）/00-A041\\ 03\\ 残月.mp3,192.0,44.1\n",
      "../raw/A/A音源（101～150）/00-A117\\ 04\\ 残月\\ 解説.mp3,192.0,44.1\n",
      "../raw/A/A音源（101～150）/00-A117\\ 05\\ 残月\\ (吉田先生).mp3,192.0,44.1\n",
      "../raw/A/A音源（101～150）/00-A117\\ 06\\ 残月\\ 解説.mp3,191.999,44.1\n",
      "../raw/A/A音源（101～150）/A135\\ 01\\ 残月.mp3,320.0,44.1\n",
      "../raw/A/A音源（151～200)/00-A176\\ 01\\ 残月.mp3,192.0,44.1\n",
      "../raw/A/A音源（201～250）/00-A238\\ 01\\ 残月.mp3,320.0,44.1\n",
      "../raw/A/A音源（251〜300）/00-A258\\ 04\\ 残月(沢井忠夫,山口五郎).mp3,320.0,44.1\n",
      "../raw/A/A音源（251〜300）/00-A259\\ 01\\ 残月(箏\\ 黒川真理,三絃\\ 深海さとみ,尺八\\ 藤原道山).mp3,320.0,44.1\n",
      "../raw/A/A音源（51～100）/00-A054\\ 03\\ 残月.mp3,192.0,44.1\n",
      "../raw/A/A音源（51～100）/00-A059\\ 02\\ 残月(2).mp3,192.0,44.1\n",
      "../raw/A/A音源（51～100）/00-A059\\ 03\\ 残月(3).mp3,192.0,44.1\n",
      "../raw/A/A音源（51～100）/00-A059\\ 04\\ 残月(4).mp3,192.0,44.1\n",
      "../raw/A/A音源（51～100）/00-A059\\ 05\\ 残月(5).mp3,192.0,44.1\n",
      "../raw/A/A音源（51～100）/00-A087\\ 01\\ 残月(生田流箏曲尺八素吹き).mp3,192.0,44.1\n",
      "../raw/A/A音源（51～100）/A059\\ 01\\ 残月(1).mp3,320.0,44.1\n",
      "../raw/D/D001-050/D005\\ 05\\ 1978奈良女飛鳥会定演\\ 残月\\ 解説.mp3,64.0,44.1\n",
      "../raw/D/D001-050/D005\\ 06\\ 1978奈良女飛鳥会定演\\ 残月.mp3,64.0,44.1\n",
      "../raw/K/K音源/K19\\ 01\\ 残月.MP3,64.0,44.1\n",
      "../raw/K/K音源/K20\\ 04\\ 残月.MP3,64.0,44.1\n",
      "../raw/尺八音源/24.残月\\ (1).mp3,128.0,44.1\n"
     ]
    }
   ],
   "source": [
    "fix_path = lambda filepath: re.sub(' ', '\\ ', filepath)\n",
    "print('\\n'.join([\n",
    "    f\"{fix_path(filepath)},{get_bitrate(filepath)[0]/1e3},{get_bitrate(filepath)[1]/1e3}\"\n",
    "    for filepath in files if re.findall(\"千鳥の曲\", filepath)\n",
    "]))"
   ]
  },
  {
   "cell_type": "code",
   "execution_count": 5,
   "metadata": {},
   "outputs": [
    {
     "name": "stdout",
     "output_type": "stream",
     "text": [
      "../raw/A/A音源（201～250）/00-A211 1 こんかい.MP3,../raw/A/A音源（201～250）/00-A219 01 MINORI.mp3,../raw/A/A音源（201～250）/00-A219 02 からたちの花.mp3,../raw/A/A音源（201～250）/00-A219 03 Flow my tears -流れよ、わが涙-.mp3,../raw/A/A音源（201～250）/00-A219 04 Orchestral Suite No.2 in B minor, BWV1067 (管弦楽組曲第2番より) I. Overture (I. 序曲).mp3,../raw/A/A音源（201～250）/00-A219 05 Orchestral Suite No.2 in B minor, BWV1067 (管弦楽組曲第2番より) V. Polonaise (V. ポロネーズ).mp3,../raw/A/A音源（201～250）/00-A219 06 Orchestral Suite No.2 in B minor, BWV1067 (管弦楽組曲第2番より) VI. Menuet (VI. メヌエット).mp3,../raw/A/A音源（201～250）/00-A219 07 Orchestral Suite No.2 in B minor, BWV1067 (管弦楽組曲第2番より) VII. Badinerie (VII. バディネ.mp3,../raw/A/A音源（201～250）/00-A219 09 Lune.mp3,../raw/A/A音源（201～250）/00-A219 10 Roman Nepi Tancok (ルーマニア民俗舞曲) I. Bot-tanc (棒踊り).mp3,../raw/A/A音源（201～250）/00-A219 11 Roman Nepi Tancok (ルーマニア民俗舞曲) II. Braul (飾り帯の踊り).mp3,../raw/A/A音源（201～250）/00-A219 12 Roman Nepi Tancok (ルーマニア民俗舞曲) III. Topogo (足踏み踊り).mp3,../raw/A/A音源（201～250）/00-A219 13 Roman Nepi Tancok (ルーマニア民俗舞曲) IV. Bucsumi tanc (フﾞチュム人の踊り).mp3,../raw/A/A音源（201～250）/00-A219 14 Roman Nepi Tancok (ルーマニア民俗舞曲) V. Roman polka - VI. Aprozo. (ルーマニア風ホﾟルカ～速い踊り).mp3,../raw/A/A音源（201～250）/00-A219 15 月下竹韻.mp3,../raw/A/A音源（201～250）/00-A219 16 La Festa.mp3,../raw/A/A音源（201～250）/00-A219 17 燕子 -Swallow-.mp3,../raw/A/A音源（201～250）/00-A220 01 月の鏡.mp3,../raw/A/A音源（201～250）/00-A220 03 もらい泣き.mp3,../raw/A/A音源（201～250）/00-A220 04 かざうた.mp3,../raw/A/A音源（201～250）/00-A220 06 光.mp3,../raw/A/A音源（201～250）/00-A220 07 東風.mp3,../raw/A/A音源（201～250）/00-A220 08 四季.mp3,../raw/A/A音源（201～250）/00-A220 09 島唄.mp3,../raw/A/A音源（201～250）/00-A220 10 花.mp3,../raw/A/A音源（201～250）/00-A220 11 春告鳥.mp3,../raw/A/A音源（201～250）/00-A221 01 道灌.mp3,../raw/A/A音源（201～250）/00-A221 02 松竹梅.mp3,../raw/A/A音源（201～250）/00-A221 03 宮城道雄_壱越調筝協奏曲　第一楽章　序曲.mp3,../raw/A/A音源（201～250）/00-A221 04 宮城道雄_壱越調筝協奏曲　第二楽章　歌謡調.mp3,../raw/A/A音源（201～250）/00-A221 05 宮城道雄_壱越調筝協奏曲　第三楽章　さらし風終曲.mp3,../raw/A/A音源（201～250）/00-A222 01 春の曲.mp3,../raw/A/A音源（201～250）/00-A222 02 都の春.mp3,../raw/A/A音源（201～250）/00-A222 03 梅の月.mp3,../raw/A/A音源（201～250）/00-A222 04 西行桜.mp3,../raw/A/A音源（201～250）/00-A223 01 数え唄変奏曲.mp3,../raw/A/A音源（201～250）/00-A223 02 夏の小曲　風鈴.mp3,../raw/A/A音源（201～250）/00-A223 03 夏の小曲　金魚.mp3,../raw/A/A音源（201～250）/00-A223 04 夏の小曲　線香花火.mp3,../raw/A/A音源（201～250）/00-A223 05 虫の歌.mp3,../raw/A/A音源（201～250）/00-A223 06 三つの遊び　まりつき.mp3,../raw/A/A音源（201～250）/00-A223 07 三つの遊び　かくれんぼ.mp3,../raw/A/A音源（201～250）/00-A223 08 三つの遊び　汽車ごっこ.mp3,../raw/A/A音源（201～250）/00-A223 09 島の朝.mp3,../raw/A/A音源（201～250）/00-A223 10 中空砧.mp3,../raw/A/A音源（201～250）/00-A223 11 朝　鳩.mp3,../raw/A/A音源（201～250）/00-A223 12 朝　行進.mp3,../raw/A/A音源（201～250）/00-A223 13 五十鈴川.mp3,../raw/A/A音源（201～250）/00-A223 14 祭の太鼓.mp3,../raw/A/A音源（201～250）/00-A223 15 衛兵の交替.mp3,../raw/A/A音源（201～250）/00-A223 16 ロンドンの夜の雨.mp3,../raw/A/A音源（201～250）/00-A223 17 手事　第一楽章　手事.mp3,../raw/A/A音源（201～250）/00-A223 18 手事　第二楽章　組歌風.mp3,../raw/A/A音源（201～250）/00-A223 19 手事　第三楽章　輪舌.mp3,../raw/A/A音源（201～250）/00-A224 01 序.mp3,../raw/A/A音源（201～250）/00-A224 02 銀界.mp3,../raw/A/A音源（201～250）/00-A224 03 竜安寺の石庭.mp3,../raw/A/A音源（201～250）/00-A224 04 驟雨.mp3,../raw/A/A音源（201～250）/00-A224 05 沢之瀬.mp3,../raw/A/A音源（201～250）/00-A224 06 終.mp3,../raw/A/A音源（201～250）/00-A225 01 新ざらし.mp3,../raw/A/A音源（201～250）/00-A225 02 葵の上.mp3,../raw/A/A音源（201～250）/00-A225 03 松竹梅.mp3,../raw/A/A音源（201～250）/00-A225 04 千鳥曲.mp3,../raw/A/A音源（201～250）/00-A226 01 尺八とオーケストラのための協奏曲.mp3,../raw/A/A音源（201～250）/00-A226 02 壱越.mp3,../raw/A/A音源（201～250）/00-A226 03 鶴の巣籠.mp3,../raw/A/A音源（201～250）/00-A226 04 竹籟五章.mp3,../raw/A/A音源（201～250）/00-A227 01 尺八二重奏曲　竹　第一楽章　孟宗竹.mp3,../raw/A/A音源（201～250）/00-A227 02 尺八二重奏曲　竹　第二楽章　若竹.mp3,../raw/A/A音源（201～250）/00-A227 03 尺八二重奏曲　竹　第三楽章　布袋竹.mp3,../raw/A/A音源（201～250）/00-A227 04 尺八独奏曲　甲乙(かんおつ).mp3,../raw/A/A音源（201～250）/00-A227 05 尺八と十七弦のための　峠花(とうげばな).mp3,../raw/A/A音源（201～250）/00-A227 06 尺八独奏曲　雲居調(くもいちょう).mp3,../raw/A/A音源（201～250）/00-A227 07 尺八とフルートのための　三籟(SANRAI).mp3,../raw/A/A音源（201～250）/00-A227 08 尺八二重奏曲三番　対動(ついどう)　第一楽章.mp3,../raw/A/A音源（201～250）/00-A227 09 尺八二重奏曲三番　対動(ついどう)　第二楽章.mp3,../raw/A/A音源（201～250）/00-A227 10 尺八二重奏曲三番　対動(ついどう)　第三楽章.mp3,../raw/A/A音源（201～250）/00-A228 02 「春」(尺八独奏曲　竹の四季).mp3,../raw/A/A音源（201～250）/00-A228 03 「夏」(尺八独奏曲　竹の四季).mp3,../raw/A/A音源（201～250）/00-A228 04 「秋」(尺八独奏曲　竹の四季).mp3,../raw/A/A音源（201～250）/00-A228 05 「冬」(尺八独奏曲　竹の四季).mp3,../raw/A/A音源（201～250）/00-A228 06 尺八と十七弦のための　峠花(とうげばな).mp3,../raw/A/A音源（201～250）/00-A229 01 三谷(布袋軒所傳尺八古典本曲).mp3,../raw/A/A音源（201～250）/00-A229 02 三谷清攬(津軽根笹派所傳尺八古典本曲).mp3,../raw/A/A音源（201～250）/00-A229 03 三谷(越後明暗寺所傳尺八古典本曲).mp3,../raw/A/A音源（201～250）/00-A229 04 鶴林-尺八独奏のための-.mp3,../raw/A/A音源（201～250）/00-A229 05 HAMA.mp3,../raw/A/A音源（201～250）/00-A230 01 六段調.mp3,../raw/A/A音源（201～250）/00-A230 02 五段砧.mp3,../raw/A/A音源（201～250）/00-A230 03 千鳥の曲.mp3,../raw/A/A音源（201～250）/00-A230 04 春の海.mp3,../raw/A/A音源（201～250）/00-A230 05 新ざらし.mp3,../raw/A/A音源（201～250）/00-A243 01 春の海　(1項　最初)(尺八 宮田耕八朗).mp3,../raw/A/A音源（201～250）/00-A243 02 春の海　(1項　4行目)(尺八 宮田耕八朗).mp3,../raw/A/A音源（201～250）/00-A243 03 春の海　(2項　1行目)(尺八 宮田耕八朗).mp3,../raw/A/A音源（201～250）/00-A243 04 春の海　(2項　3行目)(尺八 宮田耕八朗).mp3,../raw/A/A音源（201～250）/00-A243 05 春の海　(6項　1行目)(尺八 宮田耕八朗).mp3,../raw/A/A音源（201～250）/00-A243 06 春の海　(6項　11小節目)(尺八 宮田耕八朗).mp3,../raw/A/A音源（201～250）/00-A243 07 春の海　(7項　1行3小節目)(尺八 宮田耕八朗).mp3,../raw/A/A音源（201～250）/00-A243 08 春の海　(通し)(尺八 宮田耕八朗).mp3,../raw/A/A音源（201～250）/00-A243 09 初鶯　(7項　F)(尺八 宮田耕八朗).mp3,../raw/A/A音源（201～250）/00-A243 10 初鶯　(12項　I)(尺八 宮田耕八朗).mp3,../raw/A/A音源（201～250）/00-A243 11 初鶯　(16項　K)(尺八 宮田耕八朗).mp3,../raw/A/A音源（201～250）/00-A243 12 比良　(1項　前弾き)(尺八 宮田耕八朗).mp3,../raw/A/A音源（201～250）/00-A243 13 比良　(2項　前唄)(尺八 宮田耕八朗).mp3,../raw/A/A音源（201～250）/00-A243 14 比良　(4項　手事)(尺八 宮田耕八朗).mp3,../raw/A/A音源（201～250）/00-A243 15 比良　(8項　後唄)(尺八 宮田耕八朗).mp3,A,204.5,38.7,44.1,0.5\n"
     ]
    }
   ],
   "source": [
    "display(\"../raw/A\")"
   ]
  }
 ],
 "metadata": {
  "interpreter": {
   "hash": "578d51746893154dfff859a5e7299bc564fa63eb36508d73a9e1d7c333fd4ab2"
  },
  "kernelspec": {
   "display_name": "Python 3.8.10 ('.venv')",
   "language": "python",
   "name": "python3"
  },
  "language_info": {
   "codemirror_mode": {
    "name": "ipython",
    "version": 3
   },
   "file_extension": ".py",
   "mimetype": "text/x-python",
   "name": "python",
   "nbconvert_exporter": "python",
   "pygments_lexer": "ipython3",
   "version": "3.8.10"
  },
  "orig_nbformat": 4
 },
 "nbformat": 4,
 "nbformat_minor": 2
}
