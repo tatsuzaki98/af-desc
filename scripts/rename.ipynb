{
 "cells": [
  {
   "cell_type": "markdown",
   "metadata": {},
   "source": [
    "基底部の構成は以下の通り。\n",
    "拡張子はすべて`.mp3`に統一するが、それは`compress.ipynb`で行う。\n",
    "\n",
    "例:\n",
    "- `A999_01_千鳥の曲.mp3`\n",
    "- `B999_02_9999年定演-御山獅子_解説.mp3`\n",
    "\n",
    "構成:\n",
    "- `[1][2]_[3]_([4]-)[5](_[6]).mp3`\n",
    "\n",
    "構成要素:\n",
    "1. 音源種別 `[A B C D E K M S]`\n",
    "2. アルバム番号 `[0-9]{3}`\n",
    "3. 曲番号 `[0-9]{2}`\n",
    "4. (省略可能)アルバム名 `[A-Z a-z 0-9 ひらがな カタカナ 漢字]+`\n",
    "5. 曲名 `[A-Z a-z 0-9 ひらがな カタカナ 漢字]+`\n",
    "6. (省略可能)備考 `[A-Z a-z 0-9 - ひらがな カタカナ 漢字]+`\n"
   ]
  },
  {
   "cell_type": "code",
   "execution_count": 3,
   "metadata": {},
   "outputs": [],
   "source": [
    "from os import listdir\n"
   ]
  },
  {
   "cell_type": "code",
   "execution_count": 13,
   "metadata": {},
   "outputs": [],
   "source": [
    "target_dir = '../archive/tunes/A/A_001-050'\n",
    "\n",
    "file_name_set = listdir(target_dir)\n",
    "\n",
    "file_path_set = [\n",
    "    f'{target_dir}/{filename}'\n",
    "    for filename in file_name_set\n",
    "]\n"
   ]
  },
  {
   "cell_type": "code",
   "execution_count": 11,
   "metadata": {},
   "outputs": [
    {
     "name": "stderr",
     "output_type": "stream",
     "text": [
      "ffmpeg version 4.2.7-0ubuntu0.1 Copyright (c) 2000-2022 the FFmpeg developers\n",
      "  built with gcc 9 (Ubuntu 9.4.0-1ubuntu1~20.04.1)\n",
      "  configuration: --prefix=/usr --extra-version=0ubuntu0.1 --toolchain=hardened --libdir=/usr/lib/x86_64-linux-gnu --incdir=/usr/include/x86_64-linux-gnu --arch=amd64 --enable-gpl --disable-stripping --enable-avresample --disable-filter=resample --enable-avisynth --enable-gnutls --enable-ladspa --enable-libaom --enable-libass --enable-libbluray --enable-libbs2b --enable-libcaca --enable-libcdio --enable-libcodec2 --enable-libflite --enable-libfontconfig --enable-libfreetype --enable-libfribidi --enable-libgme --enable-libgsm --enable-libjack --enable-libmp3lame --enable-libmysofa --enable-libopenjpeg --enable-libopenmpt --enable-libopus --enable-libpulse --enable-librsvg --enable-librubberband --enable-libshine --enable-libsnappy --enable-libsoxr --enable-libspeex --enable-libssh --enable-libtheora --enable-libtwolame --enable-libvidstab --enable-libvorbis --enable-libvpx --enable-libwavpack --enable-libwebp --enable-libx265 --enable-libxml2 --enable-libxvid --enable-libzmq --enable-libzvbi --enable-lv2 --enable-omx --enable-openal --enable-opencl --enable-opengl --enable-sdl2 --enable-libdc1394 --enable-libdrm --enable-libiec61883 --enable-nvenc --enable-chromaprint --enable-frei0r --enable-libx264 --enable-shared\n",
      "  libavutil      56. 31.100 / 56. 31.100\n",
      "  libavcodec     58. 54.100 / 58. 54.100\n",
      "  libavformat    58. 29.100 / 58. 29.100\n",
      "  libavdevice    58.  8.100 / 58.  8.100\n",
      "  libavfilter     7. 57.100 /  7. 57.100\n",
      "  libavresample   4.  0.  0 /  4.  0.  0\n",
      "  libswscale      5.  5.100 /  5.  5.100\n",
      "  libswresample   3.  5.100 /  3.  5.100\n",
      "  libpostproc    55.  5.100 / 55.  5.100\n",
      "Input #0, mp3, from '../archive/tunes/A/A_001-050/00-A035 03 花紅葉.mp3':\n",
      "  Metadata:\n",
      "    album           : A\n",
      "    genre           : 純邦楽\n",
      "    title           : 00-A035 03 花紅葉\n",
      "    artist          : 叡風会音源\n",
      "    album_artist    : 叡風会音源\n",
      "    TCM             : 宮城道雄\n",
      "  Duration: 00:12:27.10, start: 0.025057, bitrate: 192 kb/s\n",
      "    Stream #0:0: Audio: mp3, 44100 Hz, stereo, fltp, 192 kb/s\n",
      "    Metadata:\n",
      "      encoder         : LAME3.97b\n",
      "Stream mapping:\n",
      "  Stream #0:0 -> #0:0 (mp3 (mp3float) -> mp3 (libmp3lame))\n",
      "Press [q] to stop, [?] for help\n",
      "Output #0, mp3, to 'tmp.mp3':\n",
      "  Metadata:\n",
      "    TALB            : A\n",
      "    TCON            : 純邦楽\n",
      "    TIT2            : 00-A035 03 花紅葉\n",
      "    TPE1            : 叡風会音源\n",
      "    TPE2            : 叡風会音源\n",
      "    TCM             : 宮城道雄\n",
      "    TSSE            : Lavf58.29.100\n",
      "    Stream #0:0: Audio: mp3 (libmp3lame), 44100 Hz, stereo, fltp\n",
      "    Metadata:\n",
      "      encoder         : Lavc58.54.100 libmp3lame\n",
      "size=   11673kB time=00:12:27.05 bitrate= 128.0kbits/s speed=59.6x    \n",
      "video:0kB audio:11673kB subtitle:0kB other streams:0kB global headers:0kB muxing overhead: 0.003355%\n"
     ]
    },
    {
     "data": {
      "text/plain": [
       "(None, None)"
      ]
     },
     "execution_count": 11,
     "metadata": {},
     "output_type": "execute_result"
    }
   ],
   "source": [
    "file_path = file_path_set[0]\n",
    "\n",
    "stream = ffmpeg.input(file_path)\n",
    "stream = ffmpeg.output(stream, 'tmp.mp3', format='mp3')\n",
    "ffmpeg.run(stream)\n"
   ]
  },
  {
   "cell_type": "code",
   "execution_count": 10,
   "metadata": {},
   "outputs": [
    {
     "name": "stdout",
     "output_type": "stream",
     "text": [
      "../archive/tunes/A/A_001-050/00-A035 03 花紅葉.mp3\n"
     ]
    }
   ],
   "source": [
    "print(file_path)"
   ]
  }
 ],
 "metadata": {
  "kernelspec": {
   "display_name": "Python 3.8.10 ('venv': venv)",
   "language": "python",
   "name": "python3"
  },
  "language_info": {
   "codemirror_mode": {
    "name": "ipython",
    "version": 3
   },
   "file_extension": ".py",
   "mimetype": "text/x-python",
   "name": "python",
   "nbconvert_exporter": "python",
   "pygments_lexer": "ipython3",
   "version": "3.10.2"
  },
  "orig_nbformat": 4,
  "vscode": {
   "interpreter": {
    "hash": "d265549b3ee4f750d1132fded5022e4d2f73e22f96e434340b92c5bcf68433f0"
   }
  }
 },
 "nbformat": 4,
 "nbformat_minor": 2
}
