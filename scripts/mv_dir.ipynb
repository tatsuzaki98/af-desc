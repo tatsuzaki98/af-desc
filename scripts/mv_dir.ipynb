{
 "cells": [
  {
   "cell_type": "code",
   "execution_count": 12,
   "metadata": {},
   "outputs": [],
   "source": [
    "import shutil\n",
    "import re\n",
    "import pandas"
   ]
  },
  {
   "cell_type": "code",
   "execution_count": 27,
   "metadata": {},
   "outputs": [],
   "source": [
    "with open('../assets/filelist.csv', 'r') as f:\n",
    "    filepath_set = f.read().split('\\n')[:-1]\n"
   ]
  },
  {
   "cell_type": "code",
   "execution_count": 37,
   "metadata": {},
   "outputs": [
    {
     "name": "stdout",
     "output_type": "stream",
     "text": [
      "C音源/C音源（101～150）/00-C118No.1 01 茶音頭.mp3\n",
      "C音源/C音源（101～150）/00-C118No.1 02 御山獅子.mp3\n",
      "C音源/C音源（101～150）/00-C118No.1 03 八千代獅子(手事一部省略).mp3\n",
      "C音源/C音源（101～150）/00-C118No.1 04 四季の眺(途中から).mp3\n",
      "C音源/C音源（101～150）/00-C118No.1 05 末の契り.mp3\n",
      "C音源/C音源（101～150）/00-C118No.1 06 千代の寿(後唄なし).mp3\n",
      "C音源/C音源（101～150）/00-C118No.1 07 春の唄.mp3\n",
      "C音源/C音源（101～150）/00-C118No.1 08 せきれい.mp3\n",
      "C音源/C音源（101～150）/00-C118No.1 09 潮音.mp3\n",
      "C音源/C音源（101～150）/00-C118No.1 10 落葉.mp3\n",
      "C音源/C音源（101～150）/00-C118No.2 01 都踊(一部).mp3\n",
      "C音源/C音源（101～150）/00-C118No.2 02 母ﾊﾊﾉｳﾀ.mp3\n",
      "C音源/C音源（101～150）/00-C118No.2 03 軒の滴.mp3\n",
      "C音源/C音源（101～150）/00-C130No_2 01 複協奏曲.mp3\n",
      "C音源/C音源（101～150）/00-C130No_2 02 出雲路(1).mp3\n",
      "C音源/C音源（101～150）/00-C130No_2 03 出雲路(2).mp3\n",
      "C音源/C音源（101～150）/00-C130No_2 04 出雲路(3).mp3\n",
      "C音源/C音源（101～150）/00-C130No_2 05 熱帯魚.mp3\n",
      "C音源/C音源（101～150）/00-C130No_2 06 箏四重奏(1).mp3\n",
      "C音源/C音源（101～150）/00-C130No_2 07 箏四重奏(2).mp3\n",
      "C音源/C音源（101～150）/00-C130No_2 08 箏四重奏(3).mp3\n",
      "C音源/C音源（1～50）/00-C001No_1 01 春の曲.mp3\n",
      "C音源/C音源（1～50）/00-C001No_1 02 夏の曲.mp3\n",
      "C音源/C音源（1～50）/00-C001No_2 01 秋の曲.mp3\n",
      "C音源/C音源（1～50）/00-C001No_2 02 冬の曲.mp3\n",
      "C音源/C音源（1～50）/00-C003No_1 01 オランダ万歳.mp3\n",
      "C音源/C音源（1～50）/00-C003No_1 02 八重衣.mp3\n",
      "C音源/C音源（1～50）/00-C003No_2 01 笹の露.mp3\n",
      "C音源/C音源（1～50）/00-C003No_2 02 磯千鳥.mp3\n",
      "C音源/C音源（1～50）/00-C005No_1 01 松竹梅.mp3\n",
      "C音源/C音源（1～50）/00-C005No_1 02 古道成寺.mp3\n",
      "C音源/C音源（1～50）/00-C005No_2 01 四季の眺め.mp3\n",
      "C音源/C音源（1～50）/00-C005No_2 02 宇治巡り.mp3\n",
      "C音源/C音源（51～100）/00-C093No_1 01 綺羅.mp3\n",
      "C音源/C音源（51～100）/00-C093No_1 02 華.mp3\n",
      "C音源/C音源（51～100）/00-C093No_1 03 箏二重奏ソナタ.mp3\n",
      "C音源/C音源（51～100）/00-C093No_1 04 三つのパラフレーズ.mp3\n",
      "C音源/C音源（51～100）/00-C093No_1 05 尺八・箏・十七絃による「装画」.mp3\n"
     ]
    }
   ],
   "source": [
    "num_table = [\n",
    "    ('０', '0'),\n",
    "    ('１', '1'),\n",
    "    ('２', '2'),\n",
    "    ('３', '3'),\n",
    "    ('４', '4'),\n",
    "    ('５', '5'),\n",
    "    ('６', '6'),\n",
    "    ('７', '7'),\n",
    "    ('８', '8'),\n",
    "    ('９', '9'),\n",
    "]\n",
    "\n",
    "def parse_filepath(original_filepath):\n",
    "    filepath = re.sub('　', ' ', original_filepath)\n",
    "    for num_set in num_table:\n",
    "        filepath = re.sub(num_set[0], num_set[1], filepath)\n",
    "\n",
    "    directory = '/'.join(filepath.split('/')[:-1])\n",
    "    extension = filepath.split('.')[-1]\n",
    "    basename = re.sub(\n",
    "        r'^00-',\n",
    "        '',\n",
    "        filepath.split('/')[-1].split('.')[0],\n",
    "    )\n",
    "\n",
    "    return {\n",
    "        'original': original_filepath,\n",
    "        'directory': directory,\n",
    "        'basename': basename,\n",
    "        'extension': extension,\n",
    "    }\n",
    "\n",
    "def parse_or_none(filepath):\n",
    "    try:\n",
    "        return parse_filepath(filepath)\n",
    "    except:\n",
    "        print(filepath)\n",
    "        return None\n",
    "\n",
    "file_table = [parse_or_none(filepath) for filepath in filepath_set]"
   ]
  },
  {
   "cell_type": "code",
   "execution_count": null,
   "metadata": {},
   "outputs": [],
   "source": [
    "\"\"\"\n",
    "    group = directory[0]\n",
    "\n",
    "    match group:\n",
    "        case group if re.match(r'[ABCDE]', group):\n",
    "            record_id = int(re.sub(\n",
    "                r'[A-Z]', '', basename.split(' ')[0],\n",
    "            ))\n",
    "            try:\n",
    "                tune_id = int(basename.split(' ')[1])\n",
    "            except:\n",
    "                tune_id = 1\n",
    "            props = {\n",
    "                'group': group,\n",
    "                'record_id': record_id,\n",
    "                'tune_id': tune_id\n",
    "            }\n",
    "        case _:\n",
    "            props = {\n",
    "                'group': group,\n",
    "                'record_id': '_',\n",
    "                'tune_id': '_',\n",
    "            }\n",
    "\"\"\""
   ]
  }
 ],
 "metadata": {
  "kernelspec": {
   "display_name": "Python 3.10.2 ('venv': venv)",
   "language": "python",
   "name": "python3"
  },
  "language_info": {
   "codemirror_mode": {
    "name": "ipython",
    "version": 3
   },
   "file_extension": ".py",
   "mimetype": "text/x-python",
   "name": "python",
   "nbconvert_exporter": "python",
   "pygments_lexer": "ipython3",
   "version": "3.10.2"
  },
  "orig_nbformat": 4,
  "vscode": {
   "interpreter": {
    "hash": "d265549b3ee4f750d1132fded5022e4d2f73e22f96e434340b92c5bcf68433f0"
   }
  }
 },
 "nbformat": 4,
 "nbformat_minor": 2
}
