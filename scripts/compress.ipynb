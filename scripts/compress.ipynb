{
 "cells": [
  {
   "cell_type": "code",
   "execution_count": 12,
   "metadata": {},
   "outputs": [],
   "source": [
    "import ffmpeg\n",
    "import os\n",
    "import shutil\n",
    "import numpy\n",
    "from matplotlib import pyplot\n",
    "import re\n",
    "from datetime import datetime\n"
   ]
  },
  {
   "cell_type": "code",
   "execution_count": 13,
   "metadata": {},
   "outputs": [],
   "source": [
    "TARGET_CODEC = 'mp3'\n",
    "TARGET_BITRATE = '192k'\n",
    "TARGET_BITRATE_INT = 192000\n"
   ]
  },
  {
   "cell_type": "code",
   "execution_count": 14,
   "metadata": {},
   "outputs": [],
   "source": [
    "target_dir = 'A/A_001-050'\n",
    "\n",
    "read_dir = f'../archive/tunes/{target_dir}'\n",
    "write_dir = f'../compressed/tunes/{target_dir}'\n",
    "\n",
    "os.makedirs(write_dir, exist_ok=True)\n",
    "\n",
    "file_name_set = os.listdir(read_dir)\n"
   ]
  },
  {
   "cell_type": "code",
   "execution_count": 29,
   "metadata": {},
   "outputs": [],
   "source": [
    "def print_log(log_file_name, log_props):\n",
    "    log_line = ','.join([str(each) for each in log_props])\n",
    "    print(log_line)\n",
    "    with open(f'./{log_file_name}.log', 'a') as f:\n",
    "        f.write(f'{log_line}\\n')\n",
    "\n",
    "\n",
    "def get_stream_info(read_file_path):\n",
    "    stream_probe = ffmpeg.probe(read_file_path)['streams'][0]\n",
    "    bit_rate = int(stream_probe['bit_rate'])\n",
    "    duration = float(stream_probe['duration'])\n",
    "    return (bit_rate, duration)\n",
    "\n",
    "\n",
    "def define_action_type(duration, bit_rate, write_file_path) -> str:\n",
    "    \"\"\"\n",
    "        file already exists                           -> pass\n",
    "        file already exists but it seems to be broken -> copy\n",
    "        file already has desired bps                  -> copy\n",
    "        _                                             -> compress\n",
    "    \"\"\"\n",
    "    if os.path.isfile(write_file_path):\n",
    "        target_stream_probe = ffmpeg.probe(write_file_path)['streams'][0]\n",
    "        target_duration = float(target_stream_probe['duration'])\n",
    "        if abs(target_duration - duration) > 1:\n",
    "            return 'COPY'\n",
    "        else:\n",
    "            return 'PASS'\n",
    "    elif bit_rate <= TARGET_BITRATE_INT:\n",
    "        return 'COPY'\n",
    "    else:\n",
    "        return 'COMPRESS'\n",
    "\n",
    "\n",
    "def migrate(action_type, read_file_path, write_file_path):\n",
    "    match action_type:\n",
    "        case 'PASS':\n",
    "            pass\n",
    "        case 'COPY':\n",
    "            shutil.copy(read_file_path, write_file_path)\n",
    "        case 'COMPRESS':\n",
    "            (\n",
    "                ffmpeg\n",
    "                .input(read_file_path)\n",
    "                .output(\n",
    "                    write_file_path,\n",
    "                    format=TARGET_CODEC,\n",
    "                    audio_bitrate=TARGET_BITRATE,\n",
    "                )\n",
    "                .run(quiet=True)\n",
    "            )\n",
    "        case _:\n",
    "            raise ValueError"
   ]
  },
  {
   "cell_type": "code",
   "execution_count": 31,
   "metadata": {},
   "outputs": [
    {
     "name": "stdout",
     "output_type": "stream",
     "text": [
      "PASS,../archive/tunes/A/A_001-050/00-A035 03 花紅葉.mp3,../compressed/tunes/A/A_001-050/00-A035 03 花紅葉.mp3,192000,747.102041\n"
     ]
    }
   ],
   "source": [
    "log_file_name = re.sub(':', '', datetime.now().isoformat().split('.')[0])\n",
    "\n",
    "file_name = file_name_set[0]\n",
    "\n",
    "read_file_path = f'{read_dir}/{file_name}'\n",
    "write_file_path = f'{write_dir}/{file_name}'\n",
    "\n",
    "(bit_rate, duration) = get_stream_info(read_file_path)\n",
    "action_type = define_action_type(duration, bit_rate, write_file_path)\n",
    "migrate(action_type, read_file_path, write_file_path)\n",
    "\n",
    "log_props = (action_type, read_file_path, write_file_path, bit_rate, duration)\n",
    "print_log(log_file_name, log_props)\n"
   ]
  }
 ],
 "metadata": {
  "kernelspec": {
   "display_name": "Python 3.8.10 ('venv': venv)",
   "language": "python",
   "name": "python3"
  },
  "language_info": {
   "codemirror_mode": {
    "name": "ipython",
    "version": 3
   },
   "file_extension": ".py",
   "mimetype": "text/x-python",
   "name": "python",
   "nbconvert_exporter": "python",
   "pygments_lexer": "ipython3",
   "version": "3.10.2"
  },
  "orig_nbformat": 4,
  "vscode": {
   "interpreter": {
    "hash": "d265549b3ee4f750d1132fded5022e4d2f73e22f96e434340b92c5bcf68433f0"
   }
  }
 },
 "nbformat": 4,
 "nbformat_minor": 2
}
