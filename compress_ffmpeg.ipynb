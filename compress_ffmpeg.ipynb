{
 "cells": [
  {
   "cell_type": "code",
   "execution_count": 20,
   "metadata": {},
   "outputs": [],
   "source": [
    "TARGET_DIRECTORY = './tmp'"
   ]
  },
  {
   "cell_type": "code",
   "execution_count": 36,
   "metadata": {},
   "outputs": [],
   "source": [
    "import ffmpeg, os, shutil"
   ]
  },
  {
   "cell_type": "code",
   "execution_count": 35,
   "metadata": {},
   "outputs": [
    {
     "name": "stdout",
     "output_type": "stream",
     "text": [
      "./tmp/A012 06 衛兵の交替.mp3\n",
      "./tmp/a01/a11/A012 08 中空砧.mp3\n",
      "./tmp/a01/a11/A012 09 砧.mp3\n",
      "./tmp/a01/A012 07 谷間の水車.mp3\n",
      "./tmp/a02/A012 10 落葉の踊り.mp3\n",
      "./tmp/a02/tmp.A012 10 落葉の踊り.mp3\n"
     ]
    }
   ],
   "source": [
    "CODEC = 'mp3'\n",
    "BITRATE = 128 # in KByte\n",
    "MOUNT_POINT = '/content/drive'\n",
    "\n",
    "!pip ffmpeg\n",
    "import ffmpeg, os, shutil\n",
    "# from google.colab import drive\n",
    "\n",
    "def map_subdirs(directory, callback):\n",
    "    for file in os.listdir(directory):\n",
    "        fp = f'{directory}/{file}'\n",
    "        print(f'{fp}') if not os.path.isdir(fp) else None\n",
    "        map_subdirs(fp, callback) if os.path.isdir(fp) else callback(fp)\n",
    "\n",
    "def compress(fp):\n",
    "    tmp = f'{os.path.dirname(fp)}/tmp.{os.path.basename(fp)}'\n",
    "    shutil.copyfile(fp, tmp)\n",
    "    (ffmpeg.input(tmp).output(fp, format=CODEC, audio_bitrate=f'{BITRATE}k').run(overwrite_output=True, quiet=True))\n",
    "    os.remove(tmp)\n",
    "\n",
    "# drive.mount(MOUNT_POINT)\n",
    "map_subdirs(f'{MOUNT_POINT}/MyDrive', callback=lambda fp: compress(fp) if (int(ffmpeg.probe(fp)['streams'][0]['bit_rate']) > BITRATE*1e3) else None)\n"
   ]
  }
 ],
 "metadata": {
  "kernelspec": {
   "display_name": "Python 3.10.2 ('venv': venv)",
   "language": "python",
   "name": "python3"
  },
  "language_info": {
   "codemirror_mode": {
    "name": "ipython",
    "version": 3
   },
   "file_extension": ".py",
   "mimetype": "text/x-python",
   "name": "python",
   "nbconvert_exporter": "python",
   "pygments_lexer": "ipython3",
   "version": "3.10.2"
  },
  "orig_nbformat": 4,
  "vscode": {
   "interpreter": {
    "hash": "d265549b3ee4f750d1132fded5022e4d2f73e22f96e434340b92c5bcf68433f0"
   }
  }
 },
 "nbformat": 4,
 "nbformat_minor": 2
}
